{
  "nbformat": 4,
  "nbformat_minor": 0,
  "metadata": {
    "colab": {
      "name": "Python Tuple.ipynb",
      "provenance": []
    },
    "kernelspec": {
      "name": "python3",
      "display_name": "Python 3"
    }
  },
  "cells": [
    {
      "cell_type": "code",
      "metadata": {
        "id": "czU_4undWH-g",
        "colab_type": "code",
        "colab": {}
      },
      "source": [
        "#Tuple\n",
        "value=('Mohoshi','Momen','Rizvi','Imdadul','Sakib','Tanvir','Moga','Shofiul','Jamal')\n",
        "print(value)\n",
        "#Tuple item acces\n",
        "print(value[1])\n",
        "print(value[-1])\n",
        "print(value[2:5])\n",
        "#Change tuple values\n",
        "y=list(value)\n",
        "y[1]='Meem'\n",
        "value=tuple(y)\n",
        "print(value)\n",
        "#Loop through tuple\n",
        "for x in value:\n",
        "  print(x)\n"
      ],
      "execution_count": 0,
      "outputs": []
    },
    {
      "cell_type": "code",
      "metadata": {
        "id": "uYnwCz4aYGLt",
        "colab_type": "code",
        "outputId": "29209889-9387-4f1c-c63c-0dbf02d417ab",
        "colab": {
          "base_uri": "https://localhost:8080/",
          "height": 34
        }
      },
      "source": [
        "#If statemment in tuple\n",
        "if \"Momen\" in value:\n",
        "  print(\"Yes,Momen is in class\")  "
      ],
      "execution_count": 0,
      "outputs": [
        {
          "output_type": "stream",
          "text": [
            "Yes,Momen is in class\n"
          ],
          "name": "stdout"
        }
      ]
    },
    {
      "cell_type": "code",
      "metadata": {
        "id": "mZSCcYd5Y_xS",
        "colab_type": "code",
        "outputId": "a33c4670-9e24-4a4b-d83b-25f56cfba005",
        "colab": {
          "base_uri": "https://localhost:8080/",
          "height": 34
        }
      },
      "source": [
        "#Length in Tuple\n",
        "print(len(value))"
      ],
      "execution_count": 0,
      "outputs": [
        {
          "output_type": "stream",
          "text": [
            "9\n"
          ],
          "name": "stdout"
        }
      ]
    },
    {
      "cell_type": "code",
      "metadata": {
        "id": "snYH98PxZGvs",
        "colab_type": "code",
        "colab": {}
      },
      "source": [
        "#You can not add items to a tuple like this\n",
        "value[2]='Pranti'\n",
        "print(value)"
      ],
      "execution_count": 0,
      "outputs": []
    },
    {
      "cell_type": "code",
      "metadata": {
        "id": "LBaLz2j_ZZoo",
        "colab_type": "code",
        "outputId": "6954722b-241f-4f3e-e245-49141d758b3a",
        "colab": {
          "base_uri": "https://localhost:8080/",
          "height": 34
        }
      },
      "source": [
        "#Create tuple with one Item\n",
        "Box=('Momen',)\n",
        "print(type(Box))"
      ],
      "execution_count": 0,
      "outputs": [
        {
          "output_type": "stream",
          "text": [
            "<class 'tuple'>\n"
          ],
          "name": "stdout"
        }
      ]
    },
    {
      "cell_type": "code",
      "metadata": {
        "id": "CwwBcVzEbyWd",
        "colab_type": "code",
        "colab": {}
      },
      "source": [
        "#Delete this item cant be possible\n",
        "del Box\n",
        "print(Box)"
      ],
      "execution_count": 0,
      "outputs": []
    },
    {
      "cell_type": "code",
      "metadata": {
        "id": "n05Gwb3BcBmO",
        "colab_type": "code",
        "colab": {
          "base_uri": "https://localhost:8080/",
          "height": 34
        },
        "outputId": "34031239-74ba-48e7-b259-6e55884442f2"
      },
      "source": [
        "#Add two Tuple\n",
        "SecA=('Momen','Mohohsi','Rizvi')\n",
        "SecB=('Shovon','Dipu','Abir')\n",
        "SecC= SecA+SecB\n",
        "print(SecC)"
      ],
      "execution_count": 15,
      "outputs": [
        {
          "output_type": "stream",
          "text": [
            "('Momen', 'Mohohsi', 'Rizvi', 'Shovon', 'Dipu', 'Abir')\n"
          ],
          "name": "stdout"
        }
      ]
    }
  ]
}